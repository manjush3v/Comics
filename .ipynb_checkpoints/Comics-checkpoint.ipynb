{
 "metadata": {
  "name": "",
  "signature": "sha256:3f3a66757c3602d55cc9e4fa4a6e462e163cba62f4d29e5ac0178463164c835c"
 },
 "nbformat": 3,
 "nbformat_minor": 0,
 "worksheets": []
}