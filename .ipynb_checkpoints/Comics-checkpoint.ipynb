{
 "metadata": {
  "name": "",
  "signature": "sha256:b88bac0d8234a81d33b43f1a56455757a19620803adfe670923af07da579a7b6"
 },
 "nbformat": 3,
 "nbformat_minor": 0,
 "worksheets": [
  {
   "cells": [
    {
     "cell_type": "markdown",
     "metadata": {},
     "source": [
      "**Exploring comic book data is very interesting thing to do. Fivethirtyeight has done a wonderful job in getting this data set ready.**\n",
      "\n",
      "**Let us first import the data set in to pandas data frame and see how it looks like**\n",
      "** **"
     ]
    },
    {
     "cell_type": "code",
     "collapsed": false,
     "input": [
      "import pandas as pd\n",
      "comics = pd.read_csv('marvel-wikia-data.csv')\n",
      "print len(comics)\n",
      "comics.head(5)"
     ],
     "language": "python",
     "metadata": {},
     "outputs": [
      {
       "output_type": "stream",
       "stream": "stdout",
       "text": [
        "16376\n"
       ]
      },
      {
       "html": [
        "<div style=\"max-width:1500px;overflow:auto;\">\n",
        "<table border=\"1\" class=\"dataframe\">\n",
        "  <thead>\n",
        "    <tr style=\"text-align: right;\">\n",
        "      <th></th>\n",
        "      <th>page_id</th>\n",
        "      <th>name</th>\n",
        "      <th>urlslug</th>\n",
        "      <th>ID</th>\n",
        "      <th>ALIGN</th>\n",
        "      <th>EYE</th>\n",
        "      <th>HAIR</th>\n",
        "      <th>SEX</th>\n",
        "      <th>GSM</th>\n",
        "      <th>ALIVE</th>\n",
        "      <th>APPEARANCES</th>\n",
        "      <th>FIRST APPEARANCE</th>\n",
        "      <th>Year</th>\n",
        "    </tr>\n",
        "  </thead>\n",
        "  <tbody>\n",
        "    <tr>\n",
        "      <th>0</th>\n",
        "      <td>1678</td>\n",
        "      <td>Spider-Man (Peter Parker)</td>\n",
        "      <td>\\/Spider-Man_(Peter_Parker)</td>\n",
        "      <td>Secret Identity</td>\n",
        "      <td>Good Characters</td>\n",
        "      <td>Hazel Eyes</td>\n",
        "      <td>Brown Hair</td>\n",
        "      <td>Male Characters</td>\n",
        "      <td>NaN</td>\n",
        "      <td>Living Characters</td>\n",
        "      <td>4043</td>\n",
        "      <td>Aug-62</td>\n",
        "      <td>1962</td>\n",
        "    </tr>\n",
        "    <tr>\n",
        "      <th>1</th>\n",
        "      <td>7139</td>\n",
        "      <td>Captain America (Steven Rogers)</td>\n",
        "      <td>\\/Captain_America_(Steven_Rogers)</td>\n",
        "      <td>Public Identity</td>\n",
        "      <td>Good Characters</td>\n",
        "      <td>Blue Eyes</td>\n",
        "      <td>White Hair</td>\n",
        "      <td>Male Characters</td>\n",
        "      <td>NaN</td>\n",
        "      <td>Living Characters</td>\n",
        "      <td>3360</td>\n",
        "      <td>Mar-41</td>\n",
        "      <td>1941</td>\n",
        "    </tr>\n",
        "    <tr>\n",
        "      <th>2</th>\n",
        "      <td>64786</td>\n",
        "      <td>Wolverine (James \\\"Logan\\\" Howlett)</td>\n",
        "      <td>\\/Wolverine_(James_%22Logan%22_Howlett)</td>\n",
        "      <td>Public Identity</td>\n",
        "      <td>Neutral Characters</td>\n",
        "      <td>Blue Eyes</td>\n",
        "      <td>Black Hair</td>\n",
        "      <td>Male Characters</td>\n",
        "      <td>NaN</td>\n",
        "      <td>Living Characters</td>\n",
        "      <td>3061</td>\n",
        "      <td>Oct-74</td>\n",
        "      <td>1974</td>\n",
        "    </tr>\n",
        "    <tr>\n",
        "      <th>3</th>\n",
        "      <td>1868</td>\n",
        "      <td>Iron Man (Anthony \\\"Tony\\\" Stark)</td>\n",
        "      <td>\\/Iron_Man_(Anthony_%22Tony%22_Stark)</td>\n",
        "      <td>Public Identity</td>\n",
        "      <td>Good Characters</td>\n",
        "      <td>Blue Eyes</td>\n",
        "      <td>Black Hair</td>\n",
        "      <td>Male Characters</td>\n",
        "      <td>NaN</td>\n",
        "      <td>Living Characters</td>\n",
        "      <td>2961</td>\n",
        "      <td>Mar-63</td>\n",
        "      <td>1963</td>\n",
        "    </tr>\n",
        "    <tr>\n",
        "      <th>4</th>\n",
        "      <td>2460</td>\n",
        "      <td>Thor (Thor Odinson)</td>\n",
        "      <td>\\/Thor_(Thor_Odinson)</td>\n",
        "      <td>No Dual Identity</td>\n",
        "      <td>Good Characters</td>\n",
        "      <td>Blue Eyes</td>\n",
        "      <td>Blond Hair</td>\n",
        "      <td>Male Characters</td>\n",
        "      <td>NaN</td>\n",
        "      <td>Living Characters</td>\n",
        "      <td>2258</td>\n",
        "      <td>Nov-50</td>\n",
        "      <td>1950</td>\n",
        "    </tr>\n",
        "  </tbody>\n",
        "</table>\n",
        "</div>"
       ],
       "metadata": {},
       "output_type": "pyout",
       "prompt_number": 1,
       "text": [
        "   page_id                                 name  \\\n",
        "0     1678            Spider-Man (Peter Parker)   \n",
        "1     7139      Captain America (Steven Rogers)   \n",
        "2    64786  Wolverine (James \\\"Logan\\\" Howlett)   \n",
        "3     1868    Iron Man (Anthony \\\"Tony\\\" Stark)   \n",
        "4     2460                  Thor (Thor Odinson)   \n",
        "\n",
        "                                   urlslug                ID  \\\n",
        "0              \\/Spider-Man_(Peter_Parker)   Secret Identity   \n",
        "1        \\/Captain_America_(Steven_Rogers)   Public Identity   \n",
        "2  \\/Wolverine_(James_%22Logan%22_Howlett)   Public Identity   \n",
        "3    \\/Iron_Man_(Anthony_%22Tony%22_Stark)   Public Identity   \n",
        "4                    \\/Thor_(Thor_Odinson)  No Dual Identity   \n",
        "\n",
        "                ALIGN         EYE        HAIR              SEX  GSM  \\\n",
        "0     Good Characters  Hazel Eyes  Brown Hair  Male Characters  NaN   \n",
        "1     Good Characters   Blue Eyes  White Hair  Male Characters  NaN   \n",
        "2  Neutral Characters   Blue Eyes  Black Hair  Male Characters  NaN   \n",
        "3     Good Characters   Blue Eyes  Black Hair  Male Characters  NaN   \n",
        "4     Good Characters   Blue Eyes  Blond Hair  Male Characters  NaN   \n",
        "\n",
        "               ALIVE  APPEARANCES FIRST APPEARANCE  Year  \n",
        "0  Living Characters         4043           Aug-62  1962  \n",
        "1  Living Characters         3360           Mar-41  1941  \n",
        "2  Living Characters         3061           Oct-74  1974  \n",
        "3  Living Characters         2961           Mar-63  1963  \n",
        "4  Living Characters         2258           Nov-50  1950  "
       ]
      }
     ],
     "prompt_number": 1
    },
    {
     "cell_type": "markdown",
     "metadata": {},
     "source": [
      "Looks like GSM is completely null valued. Also, first appearance has year in it repeating the year column data which is already present.\n",
      "Let's see how many null values each of the column contains by writing a function that could take column as input and return total number of null values present in that column"
     ]
    },
    {
     "cell_type": "code",
     "collapsed": false,
     "input": [
      "def count_null(column):\n",
      "    is_null = pd.isnull(column)\n",
      "    null_count= column[is_null==True]\n",
      "    return len(null_count)\n",
      "comics.apply(count_null)"
     ],
     "language": "python",
     "metadata": {},
     "outputs": [
      {
       "metadata": {},
       "output_type": "pyout",
       "prompt_number": 2,
       "text": [
        "page_id                 0\n",
        "name                    0\n",
        "urlslug                 0\n",
        "ID                   3770\n",
        "ALIGN                2812\n",
        "EYE                  9767\n",
        "HAIR                 4264\n",
        "SEX                   854\n",
        "GSM                 16286\n",
        "ALIVE                   3\n",
        "APPEARANCES          1096\n",
        "FIRST APPEARANCE      815\n",
        "Year                  815\n",
        "dtype: int64"
       ]
      }
     ],
     "prompt_number": 2
    },
    {
     "cell_type": "markdown",
     "metadata": {},
     "source": [
      "Looks like certain columns like GSM is useless for our purpose because most values in that column are null. Centainly page_id won't do much to our analysis. Histograms are pretty handy for quick analytics. Let's do it on year column of our data set"
     ]
    },
    {
     "cell_type": "code",
     "collapsed": false,
     "input": [
      "import matplotlib as mlp \n",
      "%matplotlib inline\n",
      "import numpy as np\n",
      "comics.hist(column=['Year'], bins=50, figsize=(15,5))"
     ],
     "language": "python",
     "metadata": {},
     "outputs": [
      {
       "metadata": {},
       "output_type": "pyout",
       "prompt_number": 3,
       "text": [
        "array([[<matplotlib.axes._subplots.AxesSubplot object at 0x107a7e750>]], dtype=object)"
       ]
      },
      {
       "metadata": {},
       "output_type": "display_data",
       "png": "[encoded data removed]",
       "text": [
        "<matplotlib.figure.Figure at 0x107a7e0d0>"
       ]
      }
     ],
     "prompt_number": 3
    },
    {
     "cell_type": "code",
     "collapsed": false,
     "input": [],
     "language": "python",
     "metadata": {},
     "outputs": [],
     "prompt_number": 3
    }
   ],
   "metadata": {}
  }
 ]
}