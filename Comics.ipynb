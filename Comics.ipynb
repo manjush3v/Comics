{
 "metadata": {
  "name": "",
  "signature": "sha256:b04ca17309487e64f88fc92a48b1eff869a99a6575f1fea72e53d2a0a277346e"
 },
 "nbformat": 3,
 "nbformat_minor": 0,
 "worksheets": [
  {
   "cells": [
    {
     "cell_type": "markdown",
     "metadata": {},
     "source": [
      "**Exploring comic book data is very interesting thing to do. Fivethirtyeight has done a wonderful job in getting this data set ready.**\n",
      "\n",
      "**Let us first import the data set in to pandas data frame and see how it looks like**\n",
      "** **"
     ]
    },
    {
     "cell_type": "code",
     "collapsed": false,
     "input": [
      "import pandas as pd\n",
      "marvel_comics = pd.read_csv('marvel-wikia-data.csv')\n",
      "print len(marvel_comics)\n",
      "marvel_comics.head(5)"
     ],
     "language": "python",
     "metadata": {},
     "outputs": [
      {
       "output_type": "stream",
       "stream": "stdout",
       "text": [
        "16376\n"
       ]
      },
      {
       "html": [
        "<div style=\"max-width:1500px;overflow:auto;\">\n",
        "<table border=\"1\" class=\"dataframe\">\n",
        "  <thead>\n",
        "    <tr style=\"text-align: right;\">\n",
        "      <th></th>\n",
        "      <th>page_id</th>\n",
        "      <th>name</th>\n",
        "      <th>urlslug</th>\n",
        "      <th>ID</th>\n",
        "      <th>ALIGN</th>\n",
        "      <th>EYE</th>\n",
        "      <th>HAIR</th>\n",
        "      <th>SEX</th>\n",
        "      <th>GSM</th>\n",
        "      <th>ALIVE</th>\n",
        "      <th>APPEARANCES</th>\n",
        "      <th>FIRST APPEARANCE</th>\n",
        "      <th>Year</th>\n",
        "    </tr>\n",
        "  </thead>\n",
        "  <tbody>\n",
        "    <tr>\n",
        "      <th>0</th>\n",
        "      <td>1678</td>\n",
        "      <td>Spider-Man (Peter Parker)</td>\n",
        "      <td>\\/Spider-Man_(Peter_Parker)</td>\n",
        "      <td>Secret Identity</td>\n",
        "      <td>Good Characters</td>\n",
        "      <td>Hazel Eyes</td>\n",
        "      <td>Brown Hair</td>\n",
        "      <td>Male Characters</td>\n",
        "      <td>NaN</td>\n",
        "      <td>Living Characters</td>\n",
        "      <td>4043</td>\n",
        "      <td>Aug-62</td>\n",
        "      <td>1962</td>\n",
        "    </tr>\n",
        "    <tr>\n",
        "      <th>1</th>\n",
        "      <td>7139</td>\n",
        "      <td>Captain America (Steven Rogers)</td>\n",
        "      <td>\\/Captain_America_(Steven_Rogers)</td>\n",
        "      <td>Public Identity</td>\n",
        "      <td>Good Characters</td>\n",
        "      <td>Blue Eyes</td>\n",
        "      <td>White Hair</td>\n",
        "      <td>Male Characters</td>\n",
        "      <td>NaN</td>\n",
        "      <td>Living Characters</td>\n",
        "      <td>3360</td>\n",
        "      <td>Mar-41</td>\n",
        "      <td>1941</td>\n",
        "    </tr>\n",
        "    <tr>\n",
        "      <th>2</th>\n",
        "      <td>64786</td>\n",
        "      <td>Wolverine (James \\\"Logan\\\" Howlett)</td>\n",
        "      <td>\\/Wolverine_(James_%22Logan%22_Howlett)</td>\n",
        "      <td>Public Identity</td>\n",
        "      <td>Neutral Characters</td>\n",
        "      <td>Blue Eyes</td>\n",
        "      <td>Black Hair</td>\n",
        "      <td>Male Characters</td>\n",
        "      <td>NaN</td>\n",
        "      <td>Living Characters</td>\n",
        "      <td>3061</td>\n",
        "      <td>Oct-74</td>\n",
        "      <td>1974</td>\n",
        "    </tr>\n",
        "    <tr>\n",
        "      <th>3</th>\n",
        "      <td>1868</td>\n",
        "      <td>Iron Man (Anthony \\\"Tony\\\" Stark)</td>\n",
        "      <td>\\/Iron_Man_(Anthony_%22Tony%22_Stark)</td>\n",
        "      <td>Public Identity</td>\n",
        "      <td>Good Characters</td>\n",
        "      <td>Blue Eyes</td>\n",
        "      <td>Black Hair</td>\n",
        "      <td>Male Characters</td>\n",
        "      <td>NaN</td>\n",
        "      <td>Living Characters</td>\n",
        "      <td>2961</td>\n",
        "      <td>Mar-63</td>\n",
        "      <td>1963</td>\n",
        "    </tr>\n",
        "    <tr>\n",
        "      <th>4</th>\n",
        "      <td>2460</td>\n",
        "      <td>Thor (Thor Odinson)</td>\n",
        "      <td>\\/Thor_(Thor_Odinson)</td>\n",
        "      <td>No Dual Identity</td>\n",
        "      <td>Good Characters</td>\n",
        "      <td>Blue Eyes</td>\n",
        "      <td>Blond Hair</td>\n",
        "      <td>Male Characters</td>\n",
        "      <td>NaN</td>\n",
        "      <td>Living Characters</td>\n",
        "      <td>2258</td>\n",
        "      <td>Nov-50</td>\n",
        "      <td>1950</td>\n",
        "    </tr>\n",
        "  </tbody>\n",
        "</table>\n",
        "</div>"
       ],
       "metadata": {},
       "output_type": "pyout",
       "prompt_number": 1,
       "text": [
        "   page_id                                 name  \\\n",
        "0     1678            Spider-Man (Peter Parker)   \n",
        "1     7139      Captain America (Steven Rogers)   \n",
        "2    64786  Wolverine (James \\\"Logan\\\" Howlett)   \n",
        "3     1868    Iron Man (Anthony \\\"Tony\\\" Stark)   \n",
        "4     2460                  Thor (Thor Odinson)   \n",
        "\n",
        "                                   urlslug                ID  \\\n",
        "0              \\/Spider-Man_(Peter_Parker)   Secret Identity   \n",
        "1        \\/Captain_America_(Steven_Rogers)   Public Identity   \n",
        "2  \\/Wolverine_(James_%22Logan%22_Howlett)   Public Identity   \n",
        "3    \\/Iron_Man_(Anthony_%22Tony%22_Stark)   Public Identity   \n",
        "4                    \\/Thor_(Thor_Odinson)  No Dual Identity   \n",
        "\n",
        "                ALIGN         EYE        HAIR              SEX  GSM  \\\n",
        "0     Good Characters  Hazel Eyes  Brown Hair  Male Characters  NaN   \n",
        "1     Good Characters   Blue Eyes  White Hair  Male Characters  NaN   \n",
        "2  Neutral Characters   Blue Eyes  Black Hair  Male Characters  NaN   \n",
        "3     Good Characters   Blue Eyes  Black Hair  Male Characters  NaN   \n",
        "4     Good Characters   Blue Eyes  Blond Hair  Male Characters  NaN   \n",
        "\n",
        "               ALIVE  APPEARANCES FIRST APPEARANCE  Year  \n",
        "0  Living Characters         4043           Aug-62  1962  \n",
        "1  Living Characters         3360           Mar-41  1941  \n",
        "2  Living Characters         3061           Oct-74  1974  \n",
        "3  Living Characters         2961           Mar-63  1963  \n",
        "4  Living Characters         2258           Nov-50  1950  "
       ]
      }
     ],
     "prompt_number": 1
    },
    {
     "cell_type": "markdown",
     "metadata": {},
     "source": [
      "Looks like GSM is completely null valued. Also, first appearance has year in it repeating the year column data which is already present.\n",
      "Let's see how many null values each of the column contains by writing a function that could take column as input and return total number of null values present in that column"
     ]
    },
    {
     "cell_type": "code",
     "collapsed": false,
     "input": [
      "def count_null(column):\n",
      "    is_null = pd.isnull(column)\n",
      "    null_count= column[is_null==True]\n",
      "    return len(null_count)\n",
      "marvel_comics.apply(count_null)"
     ],
     "language": "python",
     "metadata": {},
     "outputs": [
      {
       "metadata": {},
       "output_type": "pyout",
       "prompt_number": 2,
       "text": [
        "page_id                 0\n",
        "name                    0\n",
        "urlslug                 0\n",
        "ID                   3770\n",
        "ALIGN                2812\n",
        "EYE                  9767\n",
        "HAIR                 4264\n",
        "SEX                   854\n",
        "GSM                 16286\n",
        "ALIVE                   3\n",
        "APPEARANCES          1096\n",
        "FIRST APPEARANCE      815\n",
        "Year                  815\n",
        "dtype: int64"
       ]
      }
     ],
     "prompt_number": 2
    },
    {
     "cell_type": "markdown",
     "metadata": {},
     "source": [
      "Looks like certain columns like GSM is useless for our purpose because most values in that column are null. Centainly page_id won't do much to our analysis. Histograms are pretty handy for quick analytics. Let's do it on year column of our data set"
     ]
    },
    {
     "cell_type": "code",
     "collapsed": false,
     "input": [
      "import matplotlib as mlp \n",
      "%matplotlib inline\n",
      "import numpy as np\n",
      "marvel_comics.hist(column=['Year'], bins=50, figsize=(15,5))"
     ],
     "language": "python",
     "metadata": {},
     "outputs": [
      {
       "metadata": {},
       "output_type": "pyout",
       "prompt_number": 3,
       "text": [
        "array([[<matplotlib.axes._subplots.AxesSubplot object at 0x107b25750>]], dtype=object)"
       ]
      },
      {
       "metadata": {},
       "output_type": "display_data",
       "png": "[encoded data removed]",
       "text": [
        "<matplotlib.figure.Figure at 0x107b250d0>"
       ]
      }
     ],
     "prompt_number": 3
    },
    {
     "cell_type": "markdown",
     "metadata": {},
     "source": [
      "There seems to be decline of new comic book characteres between 1950 to 1960 in marvel world. Let's actually take in dc comics data set inside to compare with marvel"
     ]
    },
    {
     "cell_type": "code",
     "collapsed": false,
     "input": [
      "dc_comics = pd.read_csv('dc-wikia-data.csv')\n",
      "print len(dc_comics)\n",
      "dc_comics.head(5)"
     ],
     "language": "python",
     "metadata": {},
     "outputs": [
      {
       "output_type": "stream",
       "stream": "stdout",
       "text": [
        "6896\n"
       ]
      },
      {
       "html": [
        "<div style=\"max-width:1500px;overflow:auto;\">\n",
        "<table border=\"1\" class=\"dataframe\">\n",
        "  <thead>\n",
        "    <tr style=\"text-align: right;\">\n",
        "      <th></th>\n",
        "      <th>page_id</th>\n",
        "      <th>name</th>\n",
        "      <th>urlslug</th>\n",
        "      <th>ID</th>\n",
        "      <th>ALIGN</th>\n",
        "      <th>EYE</th>\n",
        "      <th>HAIR</th>\n",
        "      <th>SEX</th>\n",
        "      <th>GSM</th>\n",
        "      <th>ALIVE</th>\n",
        "      <th>APPEARANCES</th>\n",
        "      <th>FIRST APPEARANCE</th>\n",
        "      <th>YEAR</th>\n",
        "    </tr>\n",
        "  </thead>\n",
        "  <tbody>\n",
        "    <tr>\n",
        "      <th>0</th>\n",
        "      <td>1422</td>\n",
        "      <td>Batman (Bruce Wayne)</td>\n",
        "      <td>\\/wiki\\/Batman_(Bruce_Wayne)</td>\n",
        "      <td>Secret Identity</td>\n",
        "      <td>Good Characters</td>\n",
        "      <td>Blue Eyes</td>\n",
        "      <td>Black Hair</td>\n",
        "      <td>Male Characters</td>\n",
        "      <td>NaN</td>\n",
        "      <td>Living Characters</td>\n",
        "      <td>3093</td>\n",
        "      <td>1939, May</td>\n",
        "      <td>1939</td>\n",
        "    </tr>\n",
        "    <tr>\n",
        "      <th>1</th>\n",
        "      <td>23387</td>\n",
        "      <td>Superman (Clark Kent)</td>\n",
        "      <td>\\/wiki\\/Superman_(Clark_Kent)</td>\n",
        "      <td>Secret Identity</td>\n",
        "      <td>Good Characters</td>\n",
        "      <td>Blue Eyes</td>\n",
        "      <td>Black Hair</td>\n",
        "      <td>Male Characters</td>\n",
        "      <td>NaN</td>\n",
        "      <td>Living Characters</td>\n",
        "      <td>2496</td>\n",
        "      <td>1986, October</td>\n",
        "      <td>1986</td>\n",
        "    </tr>\n",
        "    <tr>\n",
        "      <th>2</th>\n",
        "      <td>1458</td>\n",
        "      <td>Green Lantern (Hal Jordan)</td>\n",
        "      <td>\\/wiki\\/Green_Lantern_(Hal_Jordan)</td>\n",
        "      <td>Secret Identity</td>\n",
        "      <td>Good Characters</td>\n",
        "      <td>Brown Eyes</td>\n",
        "      <td>Brown Hair</td>\n",
        "      <td>Male Characters</td>\n",
        "      <td>NaN</td>\n",
        "      <td>Living Characters</td>\n",
        "      <td>1565</td>\n",
        "      <td>1959, October</td>\n",
        "      <td>1959</td>\n",
        "    </tr>\n",
        "    <tr>\n",
        "      <th>3</th>\n",
        "      <td>1659</td>\n",
        "      <td>James Gordon (New Earth)</td>\n",
        "      <td>\\/wiki\\/James_Gordon_(New_Earth)</td>\n",
        "      <td>Public Identity</td>\n",
        "      <td>Good Characters</td>\n",
        "      <td>Brown Eyes</td>\n",
        "      <td>White Hair</td>\n",
        "      <td>Male Characters</td>\n",
        "      <td>NaN</td>\n",
        "      <td>Living Characters</td>\n",
        "      <td>1316</td>\n",
        "      <td>1987, February</td>\n",
        "      <td>1987</td>\n",
        "    </tr>\n",
        "    <tr>\n",
        "      <th>4</th>\n",
        "      <td>1576</td>\n",
        "      <td>Richard Grayson (New Earth)</td>\n",
        "      <td>\\/wiki\\/Richard_Grayson_(New_Earth)</td>\n",
        "      <td>Secret Identity</td>\n",
        "      <td>Good Characters</td>\n",
        "      <td>Blue Eyes</td>\n",
        "      <td>Black Hair</td>\n",
        "      <td>Male Characters</td>\n",
        "      <td>NaN</td>\n",
        "      <td>Living Characters</td>\n",
        "      <td>1237</td>\n",
        "      <td>1940, April</td>\n",
        "      <td>1940</td>\n",
        "    </tr>\n",
        "  </tbody>\n",
        "</table>\n",
        "</div>"
       ],
       "metadata": {},
       "output_type": "pyout",
       "prompt_number": 4,
       "text": [
        "   page_id                         name                              urlslug  \\\n",
        "0     1422         Batman (Bruce Wayne)         \\/wiki\\/Batman_(Bruce_Wayne)   \n",
        "1    23387        Superman (Clark Kent)        \\/wiki\\/Superman_(Clark_Kent)   \n",
        "2     1458   Green Lantern (Hal Jordan)   \\/wiki\\/Green_Lantern_(Hal_Jordan)   \n",
        "3     1659     James Gordon (New Earth)     \\/wiki\\/James_Gordon_(New_Earth)   \n",
        "4     1576  Richard Grayson (New Earth)  \\/wiki\\/Richard_Grayson_(New_Earth)   \n",
        "\n",
        "                ID            ALIGN         EYE        HAIR              SEX  \\\n",
        "0  Secret Identity  Good Characters   Blue Eyes  Black Hair  Male Characters   \n",
        "1  Secret Identity  Good Characters   Blue Eyes  Black Hair  Male Characters   \n",
        "2  Secret Identity  Good Characters  Brown Eyes  Brown Hair  Male Characters   \n",
        "3  Public Identity  Good Characters  Brown Eyes  White Hair  Male Characters   \n",
        "4  Secret Identity  Good Characters   Blue Eyes  Black Hair  Male Characters   \n",
        "\n",
        "   GSM              ALIVE  APPEARANCES FIRST APPEARANCE  YEAR  \n",
        "0  NaN  Living Characters         3093        1939, May  1939  \n",
        "1  NaN  Living Characters         2496    1986, October  1986  \n",
        "2  NaN  Living Characters         1565    1959, October  1959  \n",
        "3  NaN  Living Characters         1316   1987, February  1987  \n",
        "4  NaN  Living Characters         1237      1940, April  1940  "
       ]
      }
     ],
     "prompt_number": 4
    },
    {
     "cell_type": "markdown",
     "metadata": {},
     "source": [
      "Let us use the existing count_null fuction to get number of null values present in the data set"
     ]
    },
    {
     "cell_type": "code",
     "collapsed": false,
     "input": [
      "dc_comics.apply(count_null)"
     ],
     "language": "python",
     "metadata": {},
     "outputs": [
      {
       "metadata": {},
       "output_type": "pyout",
       "prompt_number": 5,
       "text": [
        "page_id                0\n",
        "name                   0\n",
        "urlslug                0\n",
        "ID                  2013\n",
        "ALIGN                601\n",
        "EYE                 3628\n",
        "HAIR                2274\n",
        "SEX                  125\n",
        "GSM                 6832\n",
        "ALIVE                  3\n",
        "APPEARANCES          355\n",
        "FIRST APPEARANCE      69\n",
        "YEAR                  69\n",
        "dtype: int64"
       ]
      }
     ],
     "prompt_number": 5
    },
    {
     "cell_type": "code",
     "collapsed": false,
     "input": [
      "from matplotlib import pyplot as plt\n",
      "marvel_comics['Year'].plot(kind='hist', bins=30, figsize=(15,5),color='red')\n",
      "plt.xlabel('YEARS',fontsize=16)\n",
      "plt.ylabel('NEW CHARACTORS',fontsize=16)\n",
      "plt.show()\n",
      "dc_comics['YEAR'].plot(kind='hist',bins=30,figsize=(15,5),color='blue')\n",
      "plt.xlabel('YEARS',fontsize=16)\n",
      "plt.ylabel('NEW CHARACTORS',fontsize=16)\n",
      "plt.show()"
     ],
     "language": "python",
     "metadata": {},
     "outputs": [
      {
       "ename": "NameError",
       "evalue": "name 'plt' is not defined",
       "output_type": "pyerr",
       "traceback": [
        "\u001b[0;31m---------------------------------------------------------------------------\u001b[0m\n\u001b[0;31mNameError\u001b[0m                                 Traceback (most recent call last)",
        "\u001b[0;32m<ipython-input-6-255cf42fcbe4>\u001b[0m in \u001b[0;36m<module>\u001b[0;34m()\u001b[0m\n\u001b[1;32m      1\u001b[0m \u001b[0mmarvel_comics\u001b[0m\u001b[0;34m[\u001b[0m\u001b[0;34m'Year'\u001b[0m\u001b[0;34m]\u001b[0m\u001b[0;34m.\u001b[0m\u001b[0mplot\u001b[0m\u001b[0;34m(\u001b[0m\u001b[0mkind\u001b[0m\u001b[0;34m=\u001b[0m\u001b[0;34m'hist'\u001b[0m\u001b[0;34m,\u001b[0m \u001b[0mbins\u001b[0m\u001b[0;34m=\u001b[0m\u001b[0;36m30\u001b[0m\u001b[0;34m,\u001b[0m \u001b[0mfigsize\u001b[0m\u001b[0;34m=\u001b[0m\u001b[0;34m(\u001b[0m\u001b[0;36m15\u001b[0m\u001b[0;34m,\u001b[0m\u001b[0;36m5\u001b[0m\u001b[0;34m)\u001b[0m\u001b[0;34m,\u001b[0m\u001b[0mcolor\u001b[0m\u001b[0;34m=\u001b[0m\u001b[0;34m'red'\u001b[0m\u001b[0;34m)\u001b[0m\u001b[0;34m\u001b[0m\u001b[0m\n\u001b[0;32m----> 2\u001b[0;31m \u001b[0mplt\u001b[0m\u001b[0;34m.\u001b[0m\u001b[0mxlabel\u001b[0m\u001b[0;34m(\u001b[0m\u001b[0;34m'YEARS'\u001b[0m\u001b[0;34m,\u001b[0m\u001b[0mfontsize\u001b[0m\u001b[0;34m=\u001b[0m\u001b[0;36m16\u001b[0m\u001b[0;34m)\u001b[0m\u001b[0;34m\u001b[0m\u001b[0m\n\u001b[0m\u001b[1;32m      3\u001b[0m \u001b[0mplt\u001b[0m\u001b[0;34m.\u001b[0m\u001b[0mylabel\u001b[0m\u001b[0;34m(\u001b[0m\u001b[0;34m'NEW CHARACTORS'\u001b[0m\u001b[0;34m,\u001b[0m\u001b[0mfontsize\u001b[0m\u001b[0;34m=\u001b[0m\u001b[0;36m16\u001b[0m\u001b[0;34m)\u001b[0m\u001b[0;34m\u001b[0m\u001b[0m\n\u001b[1;32m      4\u001b[0m \u001b[0mplt\u001b[0m\u001b[0;34m.\u001b[0m\u001b[0mshow\u001b[0m\u001b[0;34m(\u001b[0m\u001b[0;34m)\u001b[0m\u001b[0;34m\u001b[0m\u001b[0m\n\u001b[1;32m      5\u001b[0m \u001b[0mdc_comics\u001b[0m\u001b[0;34m[\u001b[0m\u001b[0;34m'YEAR'\u001b[0m\u001b[0;34m]\u001b[0m\u001b[0;34m.\u001b[0m\u001b[0mplot\u001b[0m\u001b[0;34m(\u001b[0m\u001b[0mkind\u001b[0m\u001b[0;34m=\u001b[0m\u001b[0;34m'hist'\u001b[0m\u001b[0;34m,\u001b[0m\u001b[0mbins\u001b[0m\u001b[0;34m=\u001b[0m\u001b[0;36m30\u001b[0m\u001b[0;34m,\u001b[0m\u001b[0mfigsize\u001b[0m\u001b[0;34m=\u001b[0m\u001b[0;34m(\u001b[0m\u001b[0;36m15\u001b[0m\u001b[0;34m,\u001b[0m\u001b[0;36m5\u001b[0m\u001b[0;34m)\u001b[0m\u001b[0;34m,\u001b[0m\u001b[0mcolor\u001b[0m\u001b[0;34m=\u001b[0m\u001b[0;34m'blue'\u001b[0m\u001b[0;34m)\u001b[0m\u001b[0;34m\u001b[0m\u001b[0m\n",
        "\u001b[0;31mNameError\u001b[0m: name 'plt' is not defined"
       ]
      },
      {
       "metadata": {},
       "output_type": "display_data",
       "png": "[encoded data removed]",
       "text": [
        "<matplotlib.figure.Figure at 0x107753590>"
       ]
      }
     ],
     "prompt_number": 6
    },
    {
     "cell_type": "code",
     "collapsed": false,
     "input": [
      "fig = plt.figure()\n",
      "marvel_comics['Year'].plot(kind='hist', bins=30, figsize=(15,5),color='red')\n",
      "dc_comics['YEAR'].plot(kind='hist',bins=30,figsize=(15,5),color='blue')\n",
      "plt.xlabel('YEARS',fontsize=16)\n",
      "plt.ylabel('NEW CHARACTORS',fontsize=16)\n",
      "plt.show()"
     ],
     "language": "python",
     "metadata": {},
     "outputs": []
    },
    {
     "cell_type": "markdown",
     "metadata": {},
     "source": [
      "These histograms don't seem to grive any chance for comparing. Let's draw trendlines of comics with respect to years because they are depending on bin size. It can help in getting vague idea but not sufficuent to draw assumptions. Let's try using bar plot on years. And the above plot definitely lags many design principles"
     ]
    },
    {
     "cell_type": "code",
     "collapsed": false,
     "input": [
      "year1 = marvel_comics['Year'].value_counts().sort_index()\n",
      "series1 = pd.Series(year1)\n",
      "year2 = dc_comics['YEAR'].value_counts().sort_index()\n",
      "series2 = pd.Series(year2)\n",
      "fig = plt.figure() # Create matplotlib figure\n",
      "series1.plot(kind='bar', color='red',figsize=(15,5),legend=True,width=0.4,label='Marvel',position=0,title='Comparing new comic book charactors in marvel and dc over years')\n",
      "series2.plot(kind='bar', color='blue',legend=True,width=0.4,label='DC',position=1)\n",
      "plt.xlabel('YEARS',fontsize=16)\n",
      "plt.ylabel('NEW CHARACTORS',fontsize=16)\n",
      "plt.show()"
     ],
     "language": "python",
     "metadata": {},
     "outputs": []
    },
    {
     "cell_type": "markdown",
     "metadata": {},
     "source": [
      "Even though bar plot is accurate for comparision over years, there is a lag when it comes to quickness. I don't think it is possible for normal human eye to quickly get years where DC comics have more charactors. Let's try out line plot"
     ]
    },
    {
     "cell_type": "code",
     "collapsed": false,
     "input": [
      "year1 = marvel_comics['Year'].value_counts().sort_index()\n",
      "series1 = pd.Series(year1)\n",
      "year2 = dc_comics['YEAR'].value_counts().sort_index()\n",
      "series2 = pd.Series(year2)\n",
      "fig = plt.figure() # Create matplotlib figure\n",
      "series1.plot(kind='line', color='red',figsize=(15,5),legend=True,label='Marvel',title='Comparing new comic book charactors in marvel and dc over years')\n",
      "series2.plot(kind='line', color='blue',legend=True,label='DC') \n",
      "plt.xlabel('YEARS',fontsize=16)\n",
      "plt.ylabel('NEW CHARACTORS',fontsize=16)\n",
      "plt.show()"
     ],
     "language": "python",
     "metadata": {},
     "outputs": []
    },
    {
     "cell_type": "markdown",
     "metadata": {},
     "source": [
      "Now the above plot looks likes a good plot for compairision purpose. The above plots show that marvel created more comic books than DC over all all the years except somewhere between 1950-60 and 1980-90. Now this is helpful for quick notes, but there seems to be lag in getting accurate years. "
     ]
    },
    {
     "cell_type": "code",
     "collapsed": false,
     "input": [],
     "language": "python",
     "metadata": {},
     "outputs": []
    }
   ],
   "metadata": {}
  }
 ]
}